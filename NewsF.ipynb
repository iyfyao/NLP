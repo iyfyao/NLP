{
  "cells": [
    {
      "cell_type": "markdown",
      "metadata": {
        "id": "KAVhP2Om75oT"
      },
      "source": [
        "# **1- DATA COLLECTION**"
      ]
    },
    {
      "cell_type": "markdown",
      "metadata": {},
      "source": [
        "**Import packages**"
      ]
    },
    {
      "cell_type": "code",
      "execution_count": 2,
      "metadata": {
        "id": "KoFzpTsF7p6E"
      },
      "outputs": [],
      "source": [
        "from pyspark.sql import SparkSession\n",
        "spark = SparkSession.builder.master(\"local[*]\").appName(\"nlp news\").getOrCreate()"
      ]
    },
    {
      "cell_type": "code",
      "execution_count": 3,
      "metadata": {
        "id": "dayrreZb8HHH"
      },
      "outputs": [],
      "source": [
        "from pyspark.ml import Pipeline\n",
        "from pyspark.ml.feature import CountVectorizer,StringIndexer, RegexTokenizer,StopWordsRemover\n",
        "from pyspark.ml.classification import NaiveBayes, DecisionTreeClassifier,LogisticRegression,RandomForestClassifier\n",
        "from pyspark.ml.evaluation import MulticlassClassificationEvaluator\n",
        "from pyspark.sql.types import StringType,IntegerType\n",
        "from pyspark.sql.functions import col,udf,isnull, regexp_replace \n",
        "import pyarrow as pa\n",
        "import pandas as pd \n",
        "import numpy as np\n",
        "import matplotlib.pyplot as plt\n",
        "from wordcloud import WordCloud\n"
      ]
    },
    {
      "cell_type": "markdown",
      "metadata": {},
      "source": [
        "**Data collection**"
      ]
    },
    {
      "cell_type": "code",
      "execution_count": 4,
      "metadata": {
        "id": "OFOJzUkA8HKE"
      },
      "outputs": [],
      "source": [
        "news_data = spark.read.csv('newsdataset.csv', header= 'True', inferSchema= 'True')"
      ]
    },
    {
      "cell_type": "code",
      "execution_count": 5,
      "metadata": {
        "id": "uvbD0Wpu8HMe"
      },
      "outputs": [
        {
          "name": "stdout",
          "output_type": "stream",
          "text": [
            "+---+--------------------+--------------------+--------------------+--------+--------------------+--------------------+-------------+\n",
            "| ID|               TITLE|                 URL|           PUBLISHER|CATEGORY|               STORY|            HOSTNAME|    TIMESTAMP|\n",
            "+---+--------------------+--------------------+--------------------+--------+--------------------+--------------------+-------------+\n",
            "|  1|Fed official says...|http://www.latime...|   Los Angeles Times|       b|ddUyU0VZz0BRneMio...|     www.latimes.com|1394470370698|\n",
            "|  2|Fed's Charles Plo...|http://www.livemi...|            Livemint|       b|ddUyU0VZz0BRneMio...|    www.livemint.com|1394470371207|\n",
            "|  3|US open: Stocks f...|http://www.ifamag...|        IFA Magazine|       b|ddUyU0VZz0BRneMio...| www.ifamagazine.com|1394470371550|\n",
            "|  4|Fed risks falling...|http://www.ifamag...|        IFA Magazine|       b|ddUyU0VZz0BRneMio...| www.ifamagazine.com|1394470371793|\n",
            "|  5|Fed's Plosser: Na...|http://www.moneyn...|           Moneynews|       b|ddUyU0VZz0BRneMio...|   www.moneynews.com|1394470372027|\n",
            "|  6|Plosser: Fed May ...|http://www.nasdaq...|              NASDAQ|       b|ddUyU0VZz0BRneMio...|      www.nasdaq.com|1394470372212|\n",
            "|  7|Fed's Plosser: Ta...|http://www.market...|         MarketWatch|       b|ddUyU0VZz0BRneMio...| www.marketwatch.com|1394470372405|\n",
            "|  8|Fed's Plosser exp...|http://www.fxstre...|        FXstreet.com|       b|ddUyU0VZz0BRneMio...|    www.fxstreet.com|1394470372615|\n",
            "|  9|US jobs growth la...|http://economicti...|      Economic Times|       b|ddUyU0VZz0BRneMio...|economictimes.ind...|1394470372792|\n",
            "| 10|ECB unlikely to e...|http://www.iii.co...|Interactive Investor|       b|dPhGU51DcrolUIMxb...|       www.iii.co.uk|1394470501265|\n",
            "| 11|ECB unlikely to e...|http://in.reuters...|       Reuters India|       b|dPhGU51DcrolUIMxb...|      in.reuters.com|1394470501410|\n",
            "| 12|EU's half-baked b...|http://blogs.reut...| Reuters UK \\(blog\\)|       b|dPhGU51DcrolUIMxb...|   blogs.reuters.com|1394470501587|\n",
            "| 13|Europe reaches cr...|http://in.reuters...|             Reuters|       b|dPhGU51DcrolUIMxb...|      in.reuters.com|1394470501755|\n",
            "| 14|ECB FOCUS-Stronge...|http://in.reuters...|             Reuters|       b|dPhGU51DcrolUIMxb...|      in.reuters.com|1394470501948|\n",
            "| 15|EU aims for deal ...|http://main.omano...| Oman Daily Observer|       b|dPhGU51DcrolUIMxb...|main.omanobserver.om|1394470502141|\n",
            "| 16|Forex - Pound dro...|http://www.nasdaq...|              NASDAQ|       b|dPhGU51DcrolUIMxb...|      www.nasdaq.com|1394470502316|\n",
            "| 17|Noyer Says Strong...|http://www.sfgate...|San Francisco Chr...|       b|dPhGU51DcrolUIMxb...|      www.sfgate.com|1394470502543|\n",
            "| 18|EU Week Ahead Mar...|http://blogs.wsj....|Wall Street Journ...|       b|dPhGU51DcrolUIMxb...|       blogs.wsj.com|1394470502744|\n",
            "| 19|ECB member Noyer ...|http://www.ifamag...|        IFA Magazine|       b|dPhGU51DcrolUIMxb...| www.ifamagazine.com|1394470502946|\n",
            "| 20|Euro Anxieties Wa...|http://www.busine...|        Businessweek|       b|dPhGU51DcrolUIMxb...|www.businessweek.com|1394470503148|\n",
            "+---+--------------------+--------------------+--------------------+--------+--------------------+--------------------+-------------+\n",
            "only showing top 20 rows\n",
            "\n"
          ]
        }
      ],
      "source": [
        "news_data.show()"
      ]
    },
    {
      "cell_type": "markdown",
      "metadata": {},
      "source": [
        "**Schema and data Shape**"
      ]
    },
    {
      "cell_type": "code",
      "execution_count": 6,
      "metadata": {
        "id": "ETAsHuAB8HO5"
      },
      "outputs": [
        {
          "name": "stdout",
          "output_type": "stream",
          "text": [
            "root\n",
            " |-- ID: string (nullable = true)\n",
            " |-- TITLE: string (nullable = true)\n",
            " |-- URL: string (nullable = true)\n",
            " |-- PUBLISHER: string (nullable = true)\n",
            " |-- CATEGORY: string (nullable = true)\n",
            " |-- STORY: string (nullable = true)\n",
            " |-- HOSTNAME: string (nullable = true)\n",
            " |-- TIMESTAMP: string (nullable = true)\n",
            "\n"
          ]
        }
      ],
      "source": [
        "news_data.printSchema()"
      ]
    },
    {
      "cell_type": "code",
      "execution_count": 7,
      "metadata": {
        "id": "-GB7mFMk8HRT"
      },
      "outputs": [
        {
          "name": "stdout",
          "output_type": "stream",
          "text": [
            "422937\n",
            "8\n"
          ]
        }
      ],
      "source": [
        "# get columns and rows \n",
        "print(news_data.count())\n",
        "print(len(news_data.columns))"
      ]
    },
    {
      "cell_type": "markdown",
      "metadata": {},
      "source": [
        "**Title and Category Dataset**"
      ]
    },
    {
      "cell_type": "code",
      "execution_count": 8,
      "metadata": {
        "id": "z-btiu_68HTr"
      },
      "outputs": [
        {
          "name": "stdout",
          "output_type": "stream",
          "text": [
            "+---------------------------------------------------------------------------+--------+\n",
            "|TITLE                                                                      |CATEGORY|\n",
            "+---------------------------------------------------------------------------+--------+\n",
            "|Fed official says weak data caused by weather, should not slow taper       |b       |\n",
            "|Fed's Charles Plosser sees high bar for change in pace of tapering         |b       |\n",
            "|US open: Stocks fall after Fed official hints at accelerated tapering      |b       |\n",
            "|Fed risks falling 'behind the curve', Charles Plosser says                 |b       |\n",
            "|Fed's Plosser: Nasty Weather Has Curbed Job Growth                         |b       |\n",
            "|Plosser: Fed May Have to Accelerate Tapering Pace                          |b       |\n",
            "|Fed's Plosser: Taper pace may be too slow                                  |b       |\n",
            "|Fed's Plosser expects US unemployment to fall to 6.2% by the end of 2014   |b       |\n",
            "|US jobs growth last month hit by weather:Fed President Charles Plosser     |b       |\n",
            "|ECB unlikely to end sterilisation of SMP purchases - traders               |b       |\n",
            "|ECB unlikely to end sterilization of SMP purchases: traders                |b       |\n",
            "|EU's half-baked bank union could work                                      |b       |\n",
            "|Europe reaches crunch point on banking union                               |b       |\n",
            "|ECB FOCUS-Stronger euro drowns out ECB's message to keep rates low for  ...|b       |\n",
            "|EU aims for deal on tackling failing banks                                 |b       |\n",
            "|Forex - Pound drops to one-month lows against euro                         |b       |\n",
            "|Noyer Says Strong Euro Creates Unwarranted Economic Pressure               |b       |\n",
            "|EU Week Ahead March 10-14: Bank Resolution, Transparency, Ukraine          |b       |\n",
            "|ECB member Noyer is 'very open to all kinds of tools'                      |b       |\n",
            "|Euro Anxieties Wane as Bunds Top Treasuries, Spain Debt Rallies            |b       |\n",
            "+---------------------------------------------------------------------------+--------+\n",
            "only showing top 20 rows\n",
            "\n"
          ]
        }
      ],
      "source": [
        "# Get Only title and categories\n",
        "title_categories = news_data.select('TITLE','CATEGORY')\n",
        "title_categories.show(truncate=False)"
      ]
    },
    {
      "cell_type": "code",
      "execution_count": 9,
      "metadata": {
        "id": "WW-02WX58JEC"
      },
      "outputs": [
        {
          "name": "stdout",
          "output_type": "stream",
          "text": [
            "389\n",
            "516\n"
          ]
        }
      ],
      "source": [
        "# Null values in TITLE AND CATEGORIES \n",
        "print(title_categories.where(col('TITLE').isNull()).count())\n",
        "print(title_categories.where(col('CATEGORY').isNull()).count())\n",
        "\n"
      ]
    },
    {
      "cell_type": "code",
      "execution_count": 10,
      "metadata": {},
      "outputs": [
        {
          "name": "stdout",
          "output_type": "stream",
          "text": [
            "+--------------------+--------------------+--------------------+---------+--------+-----+--------+---------+\n",
            "|                  ID|               TITLE|                 URL|PUBLISHER|CATEGORY|STORY|HOSTNAME|TIMESTAMP|\n",
            "+--------------------+--------------------+--------------------+---------+--------+-----+--------+---------+\n",
            "|               69474|Love & Hip-Hop' S...|                null|     null|    null| null|    null|     null|\n",
            "|69475\\t'Love & Hi...| wounded\\thttp://...|                null|     null|    null| null|    null|     null|\n",
            "|69476\\tRapper Ben...|                null|                null|     null|    null| null|    null|     null|\n",
            "|69477\\tLove & Hip...|                null|                null|     null|    null| null|    null|     null|\n",
            "|69478\\t'Love & Hi...|             Benzino| shot at mother's...|     null|    null| null|    null|     null|\n",
            "|69479\\tReality TV...|                null|                null|     null|    null| null|    null|     null|\n",
            "|69480\\tWeekend Wr...| 'Scandal' Star i...|                null|     null|    null| null|    null|     null|\n",
            "|69481\\tBullets Ov...|                null|                null|     null|    null| null|    null|     null|\n",
            "|69482\\tDetails Em...|                null|                null|     null|    null| null|    null|     null|\n",
            "|69483\\tReality TV...|                null|                null|     null|    null| null|    null|     null|\n",
            "|69484\\tOfficials:...|                null|                null|     null|    null| null|    null|     null|\n",
            "|69485\\tSource Fou...|                null|                null|     null|    null| null|    null|     null|\n",
            "|69486\\tBenzino Ta...|                null|                null|     null|    null| null|    null|     null|\n",
            "|69487\\tGai Scott:...|                null|                null|     null|    null| null|    null|     null|\n",
            "|69488\\tBenzino Ch...|                null|                null|     null|    null| null|    null|     null|\n",
            "+--------------------+--------------------+--------------------+---------+--------+-----+--------+---------+\n",
            "only showing top 15 rows\n",
            "\n"
          ]
        }
      ],
      "source": [
        "# Display Nullvalues Table\n",
        "news_data.where(col('TITLE').isNull() | col('CATEGORY').isNull()).show(15)"
      ]
    },
    {
      "cell_type": "code",
      "execution_count": 11,
      "metadata": {},
      "outputs": [
        {
          "name": "stdout",
          "output_type": "stream",
          "text": [
            "422937\n",
            "2\n"
          ]
        }
      ],
      "source": [
        "#Overall titleCategories Dataset\n",
        "print(title_categories.count())\n",
        "print(len(title_categories.columns))"
      ]
    },
    {
      "cell_type": "code",
      "execution_count": 12,
      "metadata": {
        "id": "mYzlwzHr8JL0"
      },
      "outputs": [],
      "source": [
        "# We have 400k data so we decide not to keep these rows. Let's drop them\n",
        "title_categories = title_categories.dropna()"
      ]
    },
    {
      "cell_type": "code",
      "execution_count": 13,
      "metadata": {
        "id": "YNbxZ9bo8JSW"
      },
      "outputs": [
        {
          "data": {
            "text/plain": [
              "422421"
            ]
          },
          "execution_count": 13,
          "metadata": {},
          "output_type": "execute_result"
        }
      ],
      "source": [
        "title_categories.count()"
      ]
    },
    {
      "cell_type": "markdown",
      "metadata": {},
      "source": [
        "**Unique categories**"
      ]
    },
    {
      "cell_type": "code",
      "execution_count": 14,
      "metadata": {},
      "outputs": [
        {
          "data": {
            "text/plain": [
              "265"
            ]
          },
          "execution_count": 14,
          "metadata": {},
          "output_type": "execute_result"
        }
      ],
      "source": [
        "# Find unique categories\n",
        "title_categories.select('CATEGORY').distinct().count()"
      ]
    },
    {
      "cell_type": "code",
      "execution_count": 15,
      "metadata": {},
      "outputs": [
        {
          "name": "stdout",
          "output_type": "stream",
          "text": [
            "+--------------------------------------------------------------------------------------------------------------------+\n",
            "|CATEGORY                                                                                                            |\n",
            "+--------------------------------------------------------------------------------------------------------------------+\n",
            "|Pitchfork Media                                                                                                     |\n",
            "|http://grist.org/climate-energy/neil-degrasse-tyson-on-cosmos-how-science-got-cool-and-why-he-doesnt-debate-deniers/|\n",
            "|FasterLouder                                                                                                        |\n",
            "|Greenfield Daily Reporter                                                                                           |\n",
            "|WXYZ                                                                                                                |\n",
            "|dVcLyu7MZ2lvOuM8psiqi0ay7A2GM                                                                                       |\n",
            "|Fast Company                                                                                                        |\n",
            "|The Escapist                                                                                                        |\n",
            "|Boca Raton \\(blog\\)                                                                                                 |\n",
            "|Allure Magazine \\(blog\\)                                                                                            |\n",
            "|http://english.peopledaily.com.cn/90777/8567795.html                                                                |\n",
            "|Fashion Times                                                                                                       |\n",
            "|Styleite                                                                                                            |\n",
            "|India Today                                                                                                         |\n",
            "|CJAD                                                                                                                |\n",
            "|Arirang News                                                                                                        |\n",
            "|Hot Hardware                                                                                                        |\n",
            "|m                                                                                                                   |\n",
            "|io9                                                                                                                 |\n",
            "|Nature World News                                                                                                   |\n",
            "+--------------------------------------------------------------------------------------------------------------------+\n",
            "only showing top 20 rows\n",
            "\n",
            "None\n"
          ]
        }
      ],
      "source": [
        "# List few of them - \n",
        "print(title_categories.select('CATEGORY').distinct().show(truncate=False))"
      ]
    },
    {
      "cell_type": "markdown",
      "metadata": {},
      "source": [
        "**Top categories**"
      ]
    },
    {
      "cell_type": "code",
      "execution_count": 16,
      "metadata": {},
      "outputs": [
        {
          "name": "stdout",
          "output_type": "stream",
          "text": [
            "+--------------------+------+\n",
            "|CATEGORY            |count |\n",
            "+--------------------+------+\n",
            "|e                   |152127|\n",
            "|b                   |115935|\n",
            "|t                   |108237|\n",
            "|m                   |45616 |\n",
            "|Us Magazine         |31    |\n",
            "|GossipCop           |20    |\n",
            "|Contactmusic.com    |20    |\n",
            "|Complex.com         |12    |\n",
            "|CBS News            |12    |\n",
            "|The Hollywood Gossip|11    |\n",
            "|HipHopDX            |11    |\n",
            "|HeadlinePlanet.com  |10    |\n",
            "|We Got This Covered |10    |\n",
            "|Gamepur             |8     |\n",
            "|WorstPreviews.com   |7     |\n",
            "|Wetpaint            |7     |\n",
            "|TooFab.com          |7     |\n",
            "|Consequence of Sound|7     |\n",
            "|The Escapist        |6     |\n",
            "|Reality TV World    |5     |\n",
            "+--------------------+------+\n",
            "only showing top 20 rows\n",
            "\n"
          ]
        }
      ],
      "source": [
        "# Let'group them, count and display again in order\n",
        "title_categories.groupBy('CATEGORY').count().orderBy(col('count').desc()).show(truncate=False)"
      ]
    },
    {
      "cell_type": "code",
      "execution_count": 17,
      "metadata": {},
      "outputs": [
        {
          "name": "stdout",
          "output_type": "stream",
          "text": [
            "+--------------------+------+\n",
            "|CATEGORY            |count |\n",
            "+--------------------+------+\n",
            "|e                   |152127|\n",
            "|b                   |115935|\n",
            "|t                   |108237|\n",
            "|m                   |45616 |\n",
            "|Us Magazine         |31    |\n",
            "|GossipCop           |20    |\n",
            "|Contactmusic.com    |20    |\n",
            "|CBS News            |12    |\n",
            "|Complex.com         |12    |\n",
            "|The Hollywood Gossip|11    |\n",
            "|HipHopDX            |11    |\n",
            "+--------------------+------+\n",
            "\n"
          ]
        }
      ],
      "source": [
        "title_categories_hist = title_categories.groupBy('CATEGORY').count().orderBy(col('count').desc())\n",
        "title_categories_hist_10 = title_categories_hist.where(col('count')>10)\n",
        "title_categories_hist.where(col('count')>10).show(truncate=False)"
      ]
    },
    {
      "cell_type": "code",
      "execution_count": 18,
      "metadata": {},
      "outputs": [
        {
          "data": {
            "text/html": [
              "<div>\n",
              "<style scoped>\n",
              "    .dataframe tbody tr th:only-of-type {\n",
              "        vertical-align: middle;\n",
              "    }\n",
              "\n",
              "    .dataframe tbody tr th {\n",
              "        vertical-align: top;\n",
              "    }\n",
              "\n",
              "    .dataframe thead th {\n",
              "        text-align: right;\n",
              "    }\n",
              "</style>\n",
              "<table border=\"1\" class=\"dataframe\">\n",
              "  <thead>\n",
              "    <tr style=\"text-align: right;\">\n",
              "      <th></th>\n",
              "      <th>CATEGORY</th>\n",
              "      <th>count</th>\n",
              "    </tr>\n",
              "  </thead>\n",
              "  <tbody>\n",
              "    <tr>\n",
              "      <th>0</th>\n",
              "      <td>e</td>\n",
              "      <td>152127</td>\n",
              "    </tr>\n",
              "    <tr>\n",
              "      <th>1</th>\n",
              "      <td>b</td>\n",
              "      <td>115935</td>\n",
              "    </tr>\n",
              "    <tr>\n",
              "      <th>2</th>\n",
              "      <td>t</td>\n",
              "      <td>108237</td>\n",
              "    </tr>\n",
              "    <tr>\n",
              "      <th>3</th>\n",
              "      <td>m</td>\n",
              "      <td>45616</td>\n",
              "    </tr>\n",
              "    <tr>\n",
              "      <th>4</th>\n",
              "      <td>Us Magazine</td>\n",
              "      <td>31</td>\n",
              "    </tr>\n",
              "    <tr>\n",
              "      <th>5</th>\n",
              "      <td>Contactmusic.com</td>\n",
              "      <td>20</td>\n",
              "    </tr>\n",
              "    <tr>\n",
              "      <th>6</th>\n",
              "      <td>GossipCop</td>\n",
              "      <td>20</td>\n",
              "    </tr>\n",
              "    <tr>\n",
              "      <th>7</th>\n",
              "      <td>CBS News</td>\n",
              "      <td>12</td>\n",
              "    </tr>\n",
              "    <tr>\n",
              "      <th>8</th>\n",
              "      <td>Complex.com</td>\n",
              "      <td>12</td>\n",
              "    </tr>\n",
              "    <tr>\n",
              "      <th>9</th>\n",
              "      <td>The Hollywood Gossip</td>\n",
              "      <td>11</td>\n",
              "    </tr>\n",
              "    <tr>\n",
              "      <th>10</th>\n",
              "      <td>HipHopDX</td>\n",
              "      <td>11</td>\n",
              "    </tr>\n",
              "  </tbody>\n",
              "</table>\n",
              "</div>"
            ],
            "text/plain": [
              "                CATEGORY   count\n",
              "0                      e  152127\n",
              "1                      b  115935\n",
              "2                      t  108237\n",
              "3                      m   45616\n",
              "4            Us Magazine      31\n",
              "5       Contactmusic.com      20\n",
              "6              GossipCop      20\n",
              "7               CBS News      12\n",
              "8            Complex.com      12\n",
              "9   The Hollywood Gossip      11\n",
              "10              HipHopDX      11"
            ]
          },
          "execution_count": 18,
          "metadata": {},
          "output_type": "execute_result"
        }
      ],
      "source": [
        "# Enable Arrow-based columnar data \n",
        "spark.conf.set(\"spark.sql.execution.arrow.pyspark.enabled\", \"true\")\n",
        "result_pdf = title_categories_hist_10.select(\"*\").toPandas()\n",
        "result_pdf"
      ]
    },
    {
      "cell_type": "code",
      "execution_count": 19,
      "metadata": {
        "id": "0GXzgTai8c-W"
      },
      "outputs": [],
      "source": [
        "result_pdf.set_index(result_pdf['CATEGORY'],inplace=True)"
      ]
    },
    {
      "cell_type": "code",
      "execution_count": 20,
      "metadata": {},
      "outputs": [
        {
          "data": {
            "text/plain": [
              "Text(0, 0.5, 'number of tiimes')"
            ]
          },
          "execution_count": 20,
          "metadata": {},
          "output_type": "execute_result"
        },
        {
          "data": {
            "image/png": "[encoded data removed]",
            "text/plain": [
              "<Figure size 432x288 with 1 Axes>"
            ]
          },
          "metadata": {
            "needs_background": "light"
          },
          "output_type": "display_data"
        }
      ],
      "source": [
        "result_pdf.plot(kind=\"barh\")\n",
        "plt.title('Most represented types of news')\n",
        "plt.xlabel('news categories')\n",
        "plt.ylabel('number of tiimes')\n"
      ]
    },
    {
      "cell_type": "markdown",
      "metadata": {},
      "source": [
        "**Top Title**"
      ]
    },
    {
      "cell_type": "code",
      "execution_count": 21,
      "metadata": {},
      "outputs": [
        {
          "name": "stdout",
          "output_type": "stream",
          "text": [
            "+----------------------------------------------------------------------------------+-----+\n",
            "|TITLE                                                                             |count|\n",
            "+----------------------------------------------------------------------------------+-----+\n",
            "|The article requested cannot be found! Please refresh your browser or go back  ...|145  |\n",
            "|Business Highlights                                                               |59   |\n",
            "|Posted by Parvez Jabri                                                            |59   |\n",
            "|Posted by Imaduddin                                                               |53   |\n",
            "|Posted by Shoaib-ur-Rehman Siddiqui                                               |52   |\n",
            "|(click the phrases to see a list)                                                 |51   |\n",
            "|Business Wire                                                                     |41   |\n",
            "|PR Newswire                                                                       |38   |\n",
            "|Posted by Muhammad Iqbal                                                          |35   |\n",
            "|Change text size for the story                                                    |34   |\n",
            "|Get the Most Popular Beauty World News Stories in a Weekly Newsletter             |34   |\n",
            "|International markets roundup                                                     |33   |\n",
            "|Business briefs                                                                   |33   |\n",
            "|India Morning Call-Global Markets                                                 |27   |\n",
            "|10 Things to Know for Today                                                       |22   |\n",
            "|Breaking news                                                                     |21   |\n",
            "|Perez Recommends                                                                  |19   |\n",
            "|Texas Weekly Gas Price Update and Outlook                                         |18   |\n",
            "|From ColumbusAlive.com                                                            |18   |\n",
            "|The Daily Dish                                                                    |17   |\n",
            "+----------------------------------------------------------------------------------+-----+\n",
            "only showing top 20 rows\n",
            "\n"
          ]
        }
      ],
      "source": [
        "title_categories.groupBy(col('TITLE')).count().orderBy(col('count').desc()).show(truncate=False)"
      ]
    },
    {
      "cell_type": "code",
      "execution_count": null,
      "metadata": {},
      "outputs": [],
      "source": []
    },
    {
      "cell_type": "markdown",
      "metadata": {
        "id": "ZRw4nPmT8QzA"
      },
      "source": [
        "# **2- DATA PREPROCESSING**"
      ]
    },
    {
      "cell_type": "code",
      "execution_count": 22,
      "metadata": {
        "id": "s54wPhoy8f2c"
      },
      "outputs": [],
      "source": [
        "# Removing numbers from title\n",
        "title_categories = title_categories.withColumn('JustString', regexp_replace(col('TITLE'), '\\d+',''))"
      ]
    },
    {
      "cell_type": "code",
      "execution_count": 23,
      "metadata": {
        "id": "sjgCA2Pc8f5d"
      },
      "outputs": [
        {
          "name": "stdout",
          "output_type": "stream",
          "text": [
            "+---------------------------------------------------------------------------+---------------------------------------------------------------------------+\n",
            "|TITLE                                                                      |JustString                                                                 |\n",
            "+---------------------------------------------------------------------------+---------------------------------------------------------------------------+\n",
            "|Fed official says weak data caused by weather, should not slow taper       |Fed official says weak data caused by weather, should not slow taper       |\n",
            "|Fed's Charles Plosser sees high bar for change in pace of tapering         |Fed's Charles Plosser sees high bar for change in pace of tapering         |\n",
            "|US open: Stocks fall after Fed official hints at accelerated tapering      |US open: Stocks fall after Fed official hints at accelerated tapering      |\n",
            "|Fed risks falling 'behind the curve', Charles Plosser says                 |Fed risks falling 'behind the curve', Charles Plosser says                 |\n",
            "|Fed's Plosser: Nasty Weather Has Curbed Job Growth                         |Fed's Plosser: Nasty Weather Has Curbed Job Growth                         |\n",
            "|Plosser: Fed May Have to Accelerate Tapering Pace                          |Plosser: Fed May Have to Accelerate Tapering Pace                          |\n",
            "|Fed's Plosser: Taper pace may be too slow                                  |Fed's Plosser: Taper pace may be too slow                                  |\n",
            "|Fed's Plosser expects US unemployment to fall to 6.2% by the end of 2014   |Fed's Plosser expects US unemployment to fall to .% by the end of          |\n",
            "|US jobs growth last month hit by weather:Fed President Charles Plosser     |US jobs growth last month hit by weather:Fed President Charles Plosser     |\n",
            "|ECB unlikely to end sterilisation of SMP purchases - traders               |ECB unlikely to end sterilisation of SMP purchases - traders               |\n",
            "|ECB unlikely to end sterilization of SMP purchases: traders                |ECB unlikely to end sterilization of SMP purchases: traders                |\n",
            "|EU's half-baked bank union could work                                      |EU's half-baked bank union could work                                      |\n",
            "|Europe reaches crunch point on banking union                               |Europe reaches crunch point on banking union                               |\n",
            "|ECB FOCUS-Stronger euro drowns out ECB's message to keep rates low for  ...|ECB FOCUS-Stronger euro drowns out ECB's message to keep rates low for  ...|\n",
            "|EU aims for deal on tackling failing banks                                 |EU aims for deal on tackling failing banks                                 |\n",
            "|Forex - Pound drops to one-month lows against euro                         |Forex - Pound drops to one-month lows against euro                         |\n",
            "|Noyer Says Strong Euro Creates Unwarranted Economic Pressure               |Noyer Says Strong Euro Creates Unwarranted Economic Pressure               |\n",
            "|EU Week Ahead March 10-14: Bank Resolution, Transparency, Ukraine          |EU Week Ahead March -: Bank Resolution, Transparency, Ukraine              |\n",
            "|ECB member Noyer is 'very open to all kinds of tools'                      |ECB member Noyer is 'very open to all kinds of tools'                      |\n",
            "|Euro Anxieties Wane as Bunds Top Treasuries, Spain Debt Rallies            |Euro Anxieties Wane as Bunds Top Treasuries, Spain Debt Rallies            |\n",
            "+---------------------------------------------------------------------------+---------------------------------------------------------------------------+\n",
            "only showing top 20 rows\n",
            "\n"
          ]
        }
      ],
      "source": [
        "title_categories.select('TITLE','JustString').show(truncate=False)"
      ]
    },
    {
      "cell_type": "code",
      "execution_count": 24,
      "metadata": {
        "id": "udeyzj2V8f7e"
      },
      "outputs": [],
      "source": [
        "# Split text into words(from string to array of string, convert to lowercase)\n",
        "# transform: string --> array<string>  ;sometimes used to buildlike building a feature vector\n",
        "regex_tokenizer = RegexTokenizer(inputCol='JustString', outputCol='words', pattern=\"\\\\W\")\n",
        "raw_words = regex_tokenizer.transform(title_categories)"
      ]
    },
    {
      "cell_type": "code",
      "execution_count": 25,
      "metadata": {
        "id": "uh3zzGGC8f99"
      },
      "outputs": [
        {
          "name": "stdout",
          "output_type": "stream",
          "text": [
            "+--------------------------------------------------+--------------------------------------------------+--------------------------------------------------+\n",
            "|                                             TITLE|                                        JustString|                                             words|\n",
            "+--------------------------------------------------+--------------------------------------------------+--------------------------------------------------+\n",
            "|Fed official says weak data caused by weather, ...|Fed official says weak data caused by weather, ...|[fed, official, says, weak, data, caused, by, w...|\n",
            "|Fed's Charles Plosser sees high bar for change ...|Fed's Charles Plosser sees high bar for change ...|[fed, s, charles, plosser, sees, high, bar, for...|\n",
            "|US open: Stocks fall after Fed official hints a...|US open: Stocks fall after Fed official hints a...|[us, open, stocks, fall, after, fed, official, ...|\n",
            "|Fed risks falling 'behind the curve', Charles P...|Fed risks falling 'behind the curve', Charles P...|[fed, risks, falling, behind, the, curve, charl...|\n",
            "|Fed's Plosser: Nasty Weather Has Curbed Job Growth|Fed's Plosser: Nasty Weather Has Curbed Job Growth|[fed, s, plosser, nasty, weather, has, curbed, ...|\n",
            "| Plosser: Fed May Have to Accelerate Tapering Pace| Plosser: Fed May Have to Accelerate Tapering Pace|[plosser, fed, may, have, to, accelerate, taper...|\n",
            "|         Fed's Plosser: Taper pace may be too slow|         Fed's Plosser: Taper pace may be too slow|[fed, s, plosser, taper, pace, may, be, too, slow]|\n",
            "|Fed's Plosser expects US unemployment to fall t...|Fed's Plosser expects US unemployment to fall t...|[fed, s, plosser, expects, us, unemployment, to...|\n",
            "|US jobs growth last month hit by weather:Fed Pr...|US jobs growth last month hit by weather:Fed Pr...|[us, jobs, growth, last, month, hit, by, weathe...|\n",
            "|ECB unlikely to end sterilisation of SMP purcha...|ECB unlikely to end sterilisation of SMP purcha...|[ecb, unlikely, to, end, sterilisation, of, smp...|\n",
            "|ECB unlikely to end sterilization of SMP purcha...|ECB unlikely to end sterilization of SMP purcha...|[ecb, unlikely, to, end, sterilization, of, smp...|\n",
            "|             EU's half-baked bank union could work|             EU's half-baked bank union could work|    [eu, s, half, baked, bank, union, could, work]|\n",
            "|      Europe reaches crunch point on banking union|      Europe reaches crunch point on banking union|[europe, reaches, crunch, point, on, banking, u...|\n",
            "|ECB FOCUS-Stronger euro drowns out ECB's messag...|ECB FOCUS-Stronger euro drowns out ECB's messag...|[ecb, focus, stronger, euro, drowns, out, ecb, ...|\n",
            "|        EU aims for deal on tackling failing banks|        EU aims for deal on tackling failing banks|[eu, aims, for, deal, on, tackling, failing, ba...|\n",
            "|Forex - Pound drops to one-month lows against euro|Forex - Pound drops to one-month lows against euro|[forex, pound, drops, to, one, month, lows, aga...|\n",
            "|Noyer Says Strong Euro Creates Unwarranted Econ...|Noyer Says Strong Euro Creates Unwarranted Econ...|[noyer, says, strong, euro, creates, unwarrante...|\n",
            "|EU Week Ahead March 10-14: Bank Resolution, Tra...|EU Week Ahead March -: Bank Resolution, Transpa...|[eu, week, ahead, march, bank, resolution, tran...|\n",
            "|ECB member Noyer is 'very open to all kinds of ...|ECB member Noyer is 'very open to all kinds of ...|[ecb, member, noyer, is, very, open, to, all, k...|\n",
            "|Euro Anxieties Wane as Bunds Top Treasuries, Sp...|Euro Anxieties Wane as Bunds Top Treasuries, Sp...|[euro, anxieties, wane, as, bunds, top, treasur...|\n",
            "+--------------------------------------------------+--------------------------------------------------+--------------------------------------------------+\n",
            "only showing top 20 rows\n",
            "\n"
          ]
        }
      ],
      "source": [
        "raw_words.select('TITLE','JustString','words').show(20,50)"
      ]
    },
    {
      "cell_type": "code",
      "execution_count": 26,
      "metadata": {
        "id": "nUNmgFyT8gAM"
      },
      "outputs": [],
      "source": [
        "# Remove stopswords \n",
        "remover = StopWordsRemover(inputCol='words', outputCol='filtered')\n",
        "words_df = remover.transform(raw_words)"
      ]
    },
    {
      "cell_type": "code",
      "execution_count": 27,
      "metadata": {
        "id": "YB0iY8Y_8gD6"
      },
      "outputs": [
        {
          "name": "stdout",
          "output_type": "stream",
          "text": [
            "+----------------------------------------------------------------------+----------------------------------------------------------------------+\n",
            "|                                                                 words|                                                              filtered|\n",
            "+----------------------------------------------------------------------+----------------------------------------------------------------------+\n",
            "|[fed, official, says, weak, data, caused, by, weather, should, not,...|       [fed, official, says, weak, data, caused, weather, slow, taper]|\n",
            "|[fed, s, charles, plosser, sees, high, bar, for, change, in, pace, ...|      [fed, charles, plosser, sees, high, bar, change, pace, tapering]|\n",
            "|[us, open, stocks, fall, after, fed, official, hints, at, accelerat...| [us, open, stocks, fall, fed, official, hints, accelerated, tapering]|\n",
            "|     [fed, risks, falling, behind, the, curve, charles, plosser, says]|          [fed, risks, falling, behind, curve, charles, plosser, says]|\n",
            "|           [fed, s, plosser, nasty, weather, has, curbed, job, growth]|                   [fed, plosser, nasty, weather, curbed, job, growth]|\n",
            "|             [plosser, fed, may, have, to, accelerate, tapering, pace]|                       [plosser, fed, may, accelerate, tapering, pace]|\n",
            "|                    [fed, s, plosser, taper, pace, may, be, too, slow]|                                [fed, plosser, taper, pace, may, slow]|\n",
            "|[fed, s, plosser, expects, us, unemployment, to, fall, to, by, the,...|                  [fed, plosser, expects, us, unemployment, fall, end]|\n",
            "|[us, jobs, growth, last, month, hit, by, weather, fed, president, c...|[us, jobs, growth, last, month, hit, weather, fed, president, charl...|\n",
            "|  [ecb, unlikely, to, end, sterilisation, of, smp, purchases, traders]|          [ecb, unlikely, end, sterilisation, smp, purchases, traders]|\n",
            "|  [ecb, unlikely, to, end, sterilization, of, smp, purchases, traders]|          [ecb, unlikely, end, sterilization, smp, purchases, traders]|\n",
            "|                        [eu, s, half, baked, bank, union, could, work]|                                  [eu, half, baked, bank, union, work]|\n",
            "|                  [europe, reaches, crunch, point, on, banking, union]|                      [europe, reaches, crunch, point, banking, union]|\n",
            "|[ecb, focus, stronger, euro, drowns, out, ecb, s, message, to, keep...|  [ecb, focus, stronger, euro, drowns, ecb, message, keep, rates, low]|\n",
            "|                   [eu, aims, for, deal, on, tackling, failing, banks]|                            [eu, aims, deal, tackling, failing, banks]|\n",
            "|            [forex, pound, drops, to, one, month, lows, against, euro]|                         [forex, pound, drops, one, month, lows, euro]|\n",
            "| [noyer, says, strong, euro, creates, unwarranted, economic, pressure]| [noyer, says, strong, euro, creates, unwarranted, economic, pressure]|\n",
            "|     [eu, week, ahead, march, bank, resolution, transparency, ukraine]|     [eu, week, ahead, march, bank, resolution, transparency, ukraine]|\n",
            "|       [ecb, member, noyer, is, very, open, to, all, kinds, of, tools]|                              [ecb, member, noyer, open, kinds, tools]|\n",
            "|[euro, anxieties, wane, as, bunds, top, treasuries, spain, debt, ra...| [euro, anxieties, wane, bunds, top, treasuries, spain, debt, rallies]|\n",
            "+----------------------------------------------------------------------+----------------------------------------------------------------------+\n",
            "only showing top 20 rows\n",
            "\n"
          ]
        }
      ],
      "source": [
        "words_df.select('words','filtered').show(20,70)"
      ]
    },
    {
      "cell_type": "code",
      "execution_count": 28,
      "metadata": {
        "id": "wFIcJXRc8gFY"
      },
      "outputs": [
        {
          "data": {
            "text/html": [
              "<div>\n",
              "<style scoped>\n",
              "    .dataframe tbody tr th:only-of-type {\n",
              "        vertical-align: middle;\n",
              "    }\n",
              "\n",
              "    .dataframe tbody tr th {\n",
              "        vertical-align: top;\n",
              "    }\n",
              "\n",
              "    .dataframe thead th {\n",
              "        text-align: right;\n",
              "    }\n",
              "</style>\n",
              "<table border=\"1\" class=\"dataframe\">\n",
              "  <thead>\n",
              "    <tr style=\"text-align: right;\">\n",
              "      <th></th>\n",
              "      <th>TITLE</th>\n",
              "      <th>CATEGORY</th>\n",
              "      <th>JustString</th>\n",
              "      <th>words</th>\n",
              "      <th>filtered</th>\n",
              "    </tr>\n",
              "  </thead>\n",
              "  <tbody>\n",
              "    <tr>\n",
              "      <th>0</th>\n",
              "      <td>Fed official says weak data caused by weather,...</td>\n",
              "      <td>b</td>\n",
              "      <td>Fed official says weak data caused by weather,...</td>\n",
              "      <td>[fed, official, says, weak, data, caused, by, ...</td>\n",
              "      <td>[fed, official, says, weak, data, caused, weat...</td>\n",
              "    </tr>\n",
              "    <tr>\n",
              "      <th>1</th>\n",
              "      <td>Fed's Charles Plosser sees high bar for change...</td>\n",
              "      <td>b</td>\n",
              "      <td>Fed's Charles Plosser sees high bar for change...</td>\n",
              "      <td>[fed, s, charles, plosser, sees, high, bar, fo...</td>\n",
              "      <td>[fed, charles, plosser, sees, high, bar, chang...</td>\n",
              "    </tr>\n",
              "    <tr>\n",
              "      <th>2</th>\n",
              "      <td>US open: Stocks fall after Fed official hints ...</td>\n",
              "      <td>b</td>\n",
              "      <td>US open: Stocks fall after Fed official hints ...</td>\n",
              "      <td>[us, open, stocks, fall, after, fed, official,...</td>\n",
              "      <td>[us, open, stocks, fall, fed, official, hints,...</td>\n",
              "    </tr>\n",
              "    <tr>\n",
              "      <th>3</th>\n",
              "      <td>Fed risks falling 'behind the curve', Charles ...</td>\n",
              "      <td>b</td>\n",
              "      <td>Fed risks falling 'behind the curve', Charles ...</td>\n",
              "      <td>[fed, risks, falling, behind, the, curve, char...</td>\n",
              "      <td>[fed, risks, falling, behind, curve, charles, ...</td>\n",
              "    </tr>\n",
              "    <tr>\n",
              "      <th>4</th>\n",
              "      <td>Fed's Plosser: Nasty Weather Has Curbed Job Gr...</td>\n",
              "      <td>b</td>\n",
              "      <td>Fed's Plosser: Nasty Weather Has Curbed Job Gr...</td>\n",
              "      <td>[fed, s, plosser, nasty, weather, has, curbed,...</td>\n",
              "      <td>[fed, plosser, nasty, weather, curbed, job, gr...</td>\n",
              "    </tr>\n",
              "    <tr>\n",
              "      <th>...</th>\n",
              "      <td>...</td>\n",
              "      <td>...</td>\n",
              "      <td>...</td>\n",
              "      <td>...</td>\n",
              "      <td>...</td>\n",
              "    </tr>\n",
              "    <tr>\n",
              "      <th>422416</th>\n",
              "      <td>Surgeons to remove 4-year-old's rib to rebuild...</td>\n",
              "      <td>m</td>\n",
              "      <td>Surgeons to remove -year-old's rib to rebuild ...</td>\n",
              "      <td>[surgeons, to, remove, year, old, s, rib, to, ...</td>\n",
              "      <td>[surgeons, remove, year, old, rib, rebuild, da...</td>\n",
              "    </tr>\n",
              "    <tr>\n",
              "      <th>422417</th>\n",
              "      <td>Boy to have surgery on esophagus after battery...</td>\n",
              "      <td>m</td>\n",
              "      <td>Boy to have surgery on esophagus after battery...</td>\n",
              "      <td>[boy, to, have, surgery, on, esophagus, after,...</td>\n",
              "      <td>[boy, surgery, esophagus, battery, burns, hole...</td>\n",
              "    </tr>\n",
              "    <tr>\n",
              "      <th>422418</th>\n",
              "      <td>Child who swallowed battery to have reconstruc...</td>\n",
              "      <td>m</td>\n",
              "      <td>Child who swallowed battery to have reconstruc...</td>\n",
              "      <td>[child, who, swallowed, battery, to, have, rec...</td>\n",
              "      <td>[child, swallowed, battery, reconstructive, su...</td>\n",
              "    </tr>\n",
              "    <tr>\n",
              "      <th>422419</th>\n",
              "      <td>Phoenix boy undergoes surgery to repair throat...</td>\n",
              "      <td>m</td>\n",
              "      <td>Phoenix boy undergoes surgery to repair throat...</td>\n",
              "      <td>[phoenix, boy, undergoes, surgery, to, repair,...</td>\n",
              "      <td>[phoenix, boy, undergoes, surgery, repair, thr...</td>\n",
              "    </tr>\n",
              "    <tr>\n",
              "      <th>422420</th>\n",
              "      <td>Phoenix boy undergoes surgery to repair throat...</td>\n",
              "      <td>m</td>\n",
              "      <td>Phoenix boy undergoes surgery to repair throat...</td>\n",
              "      <td>[phoenix, boy, undergoes, surgery, to, repair,...</td>\n",
              "      <td>[phoenix, boy, undergoes, surgery, repair, thr...</td>\n",
              "    </tr>\n",
              "  </tbody>\n",
              "</table>\n",
              "<p>422421 rows × 5 columns</p>\n",
              "</div>"
            ],
            "text/plain": [
              "                                                    TITLE CATEGORY  \\\n",
              "0       Fed official says weak data caused by weather,...        b   \n",
              "1       Fed's Charles Plosser sees high bar for change...        b   \n",
              "2       US open: Stocks fall after Fed official hints ...        b   \n",
              "3       Fed risks falling 'behind the curve', Charles ...        b   \n",
              "4       Fed's Plosser: Nasty Weather Has Curbed Job Gr...        b   \n",
              "...                                                   ...      ...   \n",
              "422416  Surgeons to remove 4-year-old's rib to rebuild...        m   \n",
              "422417  Boy to have surgery on esophagus after battery...        m   \n",
              "422418  Child who swallowed battery to have reconstruc...        m   \n",
              "422419  Phoenix boy undergoes surgery to repair throat...        m   \n",
              "422420  Phoenix boy undergoes surgery to repair throat...        m   \n",
              "\n",
              "                                               JustString  \\\n",
              "0       Fed official says weak data caused by weather,...   \n",
              "1       Fed's Charles Plosser sees high bar for change...   \n",
              "2       US open: Stocks fall after Fed official hints ...   \n",
              "3       Fed risks falling 'behind the curve', Charles ...   \n",
              "4       Fed's Plosser: Nasty Weather Has Curbed Job Gr...   \n",
              "...                                                   ...   \n",
              "422416  Surgeons to remove -year-old's rib to rebuild ...   \n",
              "422417  Boy to have surgery on esophagus after battery...   \n",
              "422418  Child who swallowed battery to have reconstruc...   \n",
              "422419  Phoenix boy undergoes surgery to repair throat...   \n",
              "422420  Phoenix boy undergoes surgery to repair throat...   \n",
              "\n",
              "                                                    words  \\\n",
              "0       [fed, official, says, weak, data, caused, by, ...   \n",
              "1       [fed, s, charles, plosser, sees, high, bar, fo...   \n",
              "2       [us, open, stocks, fall, after, fed, official,...   \n",
              "3       [fed, risks, falling, behind, the, curve, char...   \n",
              "4       [fed, s, plosser, nasty, weather, has, curbed,...   \n",
              "...                                                   ...   \n",
              "422416  [surgeons, to, remove, year, old, s, rib, to, ...   \n",
              "422417  [boy, to, have, surgery, on, esophagus, after,...   \n",
              "422418  [child, who, swallowed, battery, to, have, rec...   \n",
              "422419  [phoenix, boy, undergoes, surgery, to, repair,...   \n",
              "422420  [phoenix, boy, undergoes, surgery, to, repair,...   \n",
              "\n",
              "                                                 filtered  \n",
              "0       [fed, official, says, weak, data, caused, weat...  \n",
              "1       [fed, charles, plosser, sees, high, bar, chang...  \n",
              "2       [us, open, stocks, fall, fed, official, hints,...  \n",
              "3       [fed, risks, falling, behind, curve, charles, ...  \n",
              "4       [fed, plosser, nasty, weather, curbed, job, gr...  \n",
              "...                                                   ...  \n",
              "422416  [surgeons, remove, year, old, rib, rebuild, da...  \n",
              "422417  [boy, surgery, esophagus, battery, burns, hole...  \n",
              "422418  [child, swallowed, battery, reconstructive, su...  \n",
              "422419  [phoenix, boy, undergoes, surgery, repair, thr...  \n",
              "422420  [phoenix, boy, undergoes, surgery, repair, thr...  \n",
              "\n",
              "[422421 rows x 5 columns]"
            ]
          },
          "execution_count": 28,
          "metadata": {},
          "output_type": "execute_result"
        }
      ],
      "source": [
        "data_cloud = words_df.select('*').toPandas()\n",
        "data_cloud"
      ]
    },
    {
      "cell_type": "code",
      "execution_count": 29,
      "metadata": {
        "id": "iA8oaF1z8gHf"
      },
      "outputs": [],
      "source": [
        "combined_text = ' '.join(map(str, data_cloud['words']))\n",
        "\n"
      ]
    },
    {
      "cell_type": "code",
      "execution_count": 30,
      "metadata": {},
      "outputs": [],
      "source": [
        "cloudViz = WordCloud(width=800, height=400).generate(combined_text)"
      ]
    },
    {
      "cell_type": "code",
      "execution_count": 31,
      "metadata": {},
      "outputs": [
        {
          "data": {
            "text/plain": [
              "<wordcloud.wordcloud.WordCloud at 0x208ddb0e640>"
            ]
          },
          "execution_count": 31,
          "metadata": {},
          "output_type": "execute_result"
        }
      ],
      "source": [
        "cloudViz"
      ]
    },
    {
      "cell_type": "code",
      "execution_count": 32,
      "metadata": {},
      "outputs": [
        {
          "data": {
            "image/png": "[encoded data removed]",
            "text/plain": [
              "<Figure size 432x288 with 1 Axes>"
            ]
          },
          "metadata": {
            "needs_background": "light"
          },
          "output_type": "display_data"
        }
      ],
      "source": [
        "# store to file\n",
        "cloudViz.to_file(\"E:\\dove_wordcloud.png\")\n",
        "\n",
        "# show\n",
        "\n",
        "plt.imshow(cloudViz)\n",
        "plt.axis(\"off\")\n",
        "plt.show()"
      ]
    },
    {
      "cell_type": "code",
      "execution_count": 33,
      "metadata": {},
      "outputs": [
        {
          "data": {
            "image/png": "[encoded data removed]",
            "text/plain": [
              "<Figure size 432x288 with 1 Axes>"
            ]
          },
          "metadata": {
            "needs_background": "light"
          },
          "output_type": "display_data"
        }
      ],
      "source": [
        "combined_text_filtered = ' '.join(map(str, data_cloud['filtered']))\n",
        "cloudViz_filtered = WordCloud(width=800, height=400).generate(combined_text_filtered)\n",
        "# store to file\n",
        "cloudViz_filtered.to_file(\"E:\\dove_wordcloud_fitered.png\")\n",
        "\n",
        "# show\n",
        "\n",
        "plt.imshow(cloudViz_filtered)\n",
        "plt.axis(\"off\")\n",
        "plt.show()"
      ]
    },
    {
      "cell_type": "code",
      "execution_count": null,
      "metadata": {},
      "outputs": [],
      "source": []
    },
    {
      "cell_type": "markdown",
      "metadata": {},
      "source": [
        "**Encode column by creating category index column**"
      ]
    },
    {
      "cell_type": "code",
      "execution_count": 34,
      "metadata": {},
      "outputs": [],
      "source": [
        "indexer = StringIndexer(inputCol='CATEGORY',outputCol='CategoryIndexer')\n",
        "feature_data = indexer.fit(words_df).transform(words_df)"
      ]
    },
    {
      "cell_type": "code",
      "execution_count": null,
      "metadata": {},
      "outputs": [],
      "source": []
    },
    {
      "cell_type": "code",
      "execution_count": 35,
      "metadata": {},
      "outputs": [
        {
          "name": "stdout",
          "output_type": "stream",
          "text": [
            "+--------------------+--------+--------------------+--------------------+--------------------+---------------+\n",
            "|               TITLE|CATEGORY|          JustString|               words|            filtered|CategoryIndexer|\n",
            "+--------------------+--------+--------------------+--------------------+--------------------+---------------+\n",
            "|Fed official says...|       b|Fed official says...|[fed, official, s...|[fed, official, s...|            1.0|\n",
            "|Fed's Charles Plo...|       b|Fed's Charles Plo...|[fed, s, charles,...|[fed, charles, pl...|            1.0|\n",
            "|US open: Stocks f...|       b|US open: Stocks f...|[us, open, stocks...|[us, open, stocks...|            1.0|\n",
            "|Fed risks falling...|       b|Fed risks falling...|[fed, risks, fall...|[fed, risks, fall...|            1.0|\n",
            "|Fed's Plosser: Na...|       b|Fed's Plosser: Na...|[fed, s, plosser,...|[fed, plosser, na...|            1.0|\n",
            "|Plosser: Fed May ...|       b|Plosser: Fed May ...|[plosser, fed, ma...|[plosser, fed, ma...|            1.0|\n",
            "|Fed's Plosser: Ta...|       b|Fed's Plosser: Ta...|[fed, s, plosser,...|[fed, plosser, ta...|            1.0|\n",
            "|Fed's Plosser exp...|       b|Fed's Plosser exp...|[fed, s, plosser,...|[fed, plosser, ex...|            1.0|\n",
            "|US jobs growth la...|       b|US jobs growth la...|[us, jobs, growth...|[us, jobs, growth...|            1.0|\n",
            "|ECB unlikely to e...|       b|ECB unlikely to e...|[ecb, unlikely, t...|[ecb, unlikely, e...|            1.0|\n",
            "|ECB unlikely to e...|       b|ECB unlikely to e...|[ecb, unlikely, t...|[ecb, unlikely, e...|            1.0|\n",
            "|EU's half-baked b...|       b|EU's half-baked b...|[eu, s, half, bak...|[eu, half, baked,...|            1.0|\n",
            "|Europe reaches cr...|       b|Europe reaches cr...|[europe, reaches,...|[europe, reaches,...|            1.0|\n",
            "|ECB FOCUS-Stronge...|       b|ECB FOCUS-Stronge...|[ecb, focus, stro...|[ecb, focus, stro...|            1.0|\n",
            "|EU aims for deal ...|       b|EU aims for deal ...|[eu, aims, for, d...|[eu, aims, deal, ...|            1.0|\n",
            "|Forex - Pound dro...|       b|Forex - Pound dro...|[forex, pound, dr...|[forex, pound, dr...|            1.0|\n",
            "|Noyer Says Strong...|       b|Noyer Says Strong...|[noyer, says, str...|[noyer, says, str...|            1.0|\n",
            "|EU Week Ahead Mar...|       b|EU Week Ahead Mar...|[eu, week, ahead,...|[eu, week, ahead,...|            1.0|\n",
            "|ECB member Noyer ...|       b|ECB member Noyer ...|[ecb, member, noy...|[ecb, member, noy...|            1.0|\n",
            "|Euro Anxieties Wa...|       b|Euro Anxieties Wa...|[euro, anxieties,...|[euro, anxieties,...|            1.0|\n",
            "+--------------------+--------+--------------------+--------------------+--------------------+---------------+\n",
            "only showing top 20 rows\n",
            "\n"
          ]
        }
      ],
      "source": [
        "feature_data.show()"
      ]
    },
    {
      "cell_type": "code",
      "execution_count": 36,
      "metadata": {
        "id": "j4E3QFXB8odz"
      },
      "outputs": [],
      "source": [
        "# Convert Text into vectors of token count\n",
        "cv = CountVectorizer(inputCol='filtered', outputCol='features')\n",
        "model = cv.fit(feature_data)\n",
        "CountVectorizer_features = model.transform(feature_data)"
      ]
    },
    {
      "cell_type": "code",
      "execution_count": 37,
      "metadata": {},
      "outputs": [
        {
          "name": "stdout",
          "output_type": "stream",
          "text": [
            "+--------------------+--------+--------------------+--------------------+--------------------+---------------+--------------------+\n",
            "|               TITLE|CATEGORY|          JustString|               words|            filtered|CategoryIndexer|            features|\n",
            "+--------------------+--------+--------------------+--------------------+--------------------+---------------+--------------------+\n",
            "|Fed official says...|       b|Fed official says...|[fed, official, s...|[fed, official, s...|            1.0|(49043,[5,42,112,...|\n",
            "|Fed's Charles Plo...|       b|Fed's Charles Plo...|[fed, s, charles,...|[fed, charles, pl...|            1.0|(49043,[58,84,112...|\n",
            "|US open: Stocks f...|       b|US open: Stocks f...|[us, open, stocks...|[us, open, stocks...|            1.0|(49043,[1,27,112,...|\n",
            "|Fed risks falling...|       b|Fed risks falling...|[fed, risks, fall...|[fed, risks, fall...|            1.0|(49043,[5,112,578...|\n",
            "|Fed's Plosser: Na...|       b|Fed's Plosser: Na...|[fed, s, plosser,...|[fed, plosser, na...|            1.0|(49043,[112,121,5...|\n",
            "|Plosser: Fed May ...|       b|Plosser: Fed May ...|[plosser, fed, ma...|[plosser, fed, ma...|            1.0|(49043,[8,112,223...|\n",
            "|Fed's Plosser: Ta...|       b|Fed's Plosser: Ta...|[fed, s, plosser,...|[fed, plosser, ta...|            1.0|(49043,[8,112,123...|\n",
            "|Fed's Plosser exp...|       b|Fed's Plosser exp...|[fed, s, plosser,...|[fed, plosser, ex...|            1.0|(49043,[1,112,135...|\n",
            "|US jobs growth la...|       b|US jobs growth la...|[us, jobs, growth...|[us, jobs, growth...|            1.0|(49043,[1,112,121...|\n",
            "|ECB unlikely to e...|       b|ECB unlikely to e...|[ecb, unlikely, t...|[ecb, unlikely, e...|            1.0|(49043,[135,200,2...|\n",
            "|ECB unlikely to e...|       b|ECB unlikely to e...|[ecb, unlikely, t...|[ecb, unlikely, e...|            1.0|(49043,[135,200,2...|\n",
            "|EU's half-baked b...|       b|EU's half-baked b...|[eu, s, half, bak...|[eu, half, baked,...|            1.0|(49043,[78,535,60...|\n",
            "|Europe reaches cr...|       b|Europe reaches cr...|[europe, reaches,...|[europe, reaches,...|            1.0|(49043,[405,939,1...|\n",
            "|ECB FOCUS-Stronge...|       b|ECB FOCUS-Stronge...|[ecb, focus, stro...|[ecb, focus, stro...|            1.0|(49043,[133,171,1...|\n",
            "|EU aims for deal ...|       b|EU aims for deal ...|[eu, aims, for, d...|[eu, aims, deal, ...|            1.0|(49043,[29,593,64...|\n",
            "|Forex - Pound dro...|       b|Forex - Pound dro...|[forex, pound, dr...|[forex, pound, dr...|            1.0|(49043,[10,171,17...|\n",
            "|Noyer Says Strong...|       b|Noyer Says Strong...|[noyer, says, str...|[noyer, says, str...|            1.0|(49043,[5,171,438...|\n",
            "|EU Week Ahead Mar...|       b|EU Week Ahead Mar...|[eu, week, ahead,...|[eu, week, ahead,...|            1.0|(49043,[56,78,168...|\n",
            "|ECB member Noyer ...|       b|ECB member Noyer ...|[ecb, member, noy...|[ecb, member, noy...|            1.0|(49043,[200,240,3...|\n",
            "|Euro Anxieties Wa...|       b|Euro Anxieties Wa...|[euro, anxieties,...|[euro, anxieties,...|            1.0|(49043,[47,171,10...|\n",
            "+--------------------+--------+--------------------+--------------------+--------------------+---------------+--------------------+\n",
            "only showing top 20 rows\n",
            "\n"
          ]
        }
      ],
      "source": [
        "CountVectorizer_features.show()"
      ]
    },
    {
      "cell_type": "code",
      "execution_count": null,
      "metadata": {},
      "outputs": [],
      "source": []
    },
    {
      "cell_type": "markdown",
      "metadata": {
        "id": "R70sI6cY8iGI"
      },
      "source": [
        "# **3- DATA SAMPLING**"
      ]
    },
    {
      "cell_type": "code",
      "execution_count": 38,
      "metadata": {
        "id": "y9rhR-Yp8qcO"
      },
      "outputs": [],
      "source": [
        "# Train and Test Dataset\n",
        "(trainingData, testData) = CountVectorizer_features.randomSplit([0.8,0.2],seed=11)"
      ]
    },
    {
      "cell_type": "code",
      "execution_count": 39,
      "metadata": {},
      "outputs": [
        {
          "name": "stdout",
          "output_type": "stream",
          "text": [
            "training Data rows 337669\n",
            "training Data columns 7\n",
            "\n",
            "test Data rows 84752\n",
            "test Data columns 7\n"
          ]
        }
      ],
      "source": [
        "print('training Data rows', trainingData.count())\n",
        "print('training Data columns', len(trainingData.columns))\n",
        "print('\\ntest Data rows', testData.count())\n",
        "print('test Data columns', len(testData.columns))"
      ]
    },
    {
      "cell_type": "code",
      "execution_count": null,
      "metadata": {
        "id": "BsfzOnDm8qeu"
      },
      "outputs": [],
      "source": []
    },
    {
      "cell_type": "markdown",
      "metadata": {
        "id": "zbYpnp8b8rpt"
      },
      "source": [
        "# **4 - ML ALGORITHM**"
      ]
    },
    {
      "cell_type": "code",
      "execution_count": 40,
      "metadata": {
        "id": "ECbeaXBx8zhW"
      },
      "outputs": [],
      "source": [
        "# Train the model Naives Bayes \n",
        "#Multinomial logistic regression is used when the dependent variable in question is nominal (equivalently categorical\n",
        "#meaning that it falls into any one of a set of categories that cannot be ordered in any meaningful way) \n",
        "# and for which there are more than two categories.\n",
        "\n",
        "nb = NaiveBayes(modelType='multinomial', labelCol='CategoryIndexer',featuresCol='features')\n",
        "nbModel = nb.fit(trainingData)\n",
        "nb_predictions = nbModel.transform(testData)"
      ]
    },
    {
      "cell_type": "code",
      "execution_count": 41,
      "metadata": {
        "id": "Mo1dX60D80Tf"
      },
      "outputs": [
        {
          "name": "stdout",
          "output_type": "stream",
          "text": [
            "+----------+---------------+--------------------+\n",
            "|prediction|CategoryIndexer|            features|\n",
            "+----------+---------------+--------------------+\n",
            "|       0.0|            0.0|(49043,[21,50,111...|\n",
            "|       0.0|            0.0|(49043,[20,21,22,...|\n",
            "|       0.0|            0.0|(49043,[31,504,77...|\n",
            "|       0.0|            0.0|(49043,[184,226,9...|\n",
            "|       0.0|            0.0|(49043,[345,511,7...|\n",
            "|       0.0|            0.0|(49043,[506,553,1...|\n",
            "|       0.0|            0.0|(49043,[17,329,38...|\n",
            "|       0.0|           20.0|(49043,[153,325,5...|\n",
            "|       0.0|            0.0|(49043,[51,59,118...|\n",
            "|       0.0|            0.0|(49043,[120,292,4...|\n",
            "+----------+---------------+--------------------+\n",
            "only showing top 10 rows\n",
            "\n"
          ]
        }
      ],
      "source": [
        "nb_predictions.select('prediction','CategoryIndexer','features').show(10)"
      ]
    },
    {
      "cell_type": "code",
      "execution_count": 3,
      "metadata": {
        "id": "fQvFfsrH80WJ"
      },
      "outputs": [
        {
          "ename": "NameError",
          "evalue": "name 'LogisticRegression' is not defined",
          "output_type": "error",
          "traceback": [
            "\u001b[1;31m---------------------------------------------------------------------------\u001b[0m",
            "\u001b[1;31mNameError\u001b[0m                                 Traceback (most recent call last)",
            "\u001b[1;32m~\\AppData\\Local\\Temp/ipykernel_40688/2857153035.py\u001b[0m in \u001b[0;36m<module>\u001b[1;34m\u001b[0m\n\u001b[0;32m      1\u001b[0m \u001b[1;31m# Train the model Logistic Regression\u001b[0m\u001b[1;33m\u001b[0m\u001b[1;33m\u001b[0m\u001b[1;33m\u001b[0m\u001b[0m\n\u001b[1;32m----> 2\u001b[1;33m \u001b[0mlr\u001b[0m \u001b[1;33m=\u001b[0m \u001b[0mLogisticRegression\u001b[0m\u001b[1;33m(\u001b[0m\u001b[0mlabelCol\u001b[0m\u001b[1;33m=\u001b[0m\u001b[1;34m'CategoryIndexer'\u001b[0m\u001b[1;33m,\u001b[0m\u001b[0mfeaturesCol\u001b[0m\u001b[1;33m=\u001b[0m\u001b[1;34m'features'\u001b[0m\u001b[1;33m,\u001b[0m \u001b[0mmaxIter\u001b[0m\u001b[1;33m=\u001b[0m \u001b[1;36m10\u001b[0m\u001b[1;33m)\u001b[0m\u001b[1;33m\u001b[0m\u001b[1;33m\u001b[0m\u001b[0m\n\u001b[0m\u001b[0;32m      3\u001b[0m \u001b[0mlrModel\u001b[0m \u001b[1;33m=\u001b[0m \u001b[0mlr\u001b[0m\u001b[1;33m.\u001b[0m\u001b[0mfit\u001b[0m\u001b[1;33m(\u001b[0m\u001b[0mtrainingData\u001b[0m\u001b[1;33m)\u001b[0m\u001b[1;33m\u001b[0m\u001b[1;33m\u001b[0m\u001b[0m\n",
            "\u001b[1;31mNameError\u001b[0m: name 'LogisticRegression' is not defined"
          ]
        }
      ],
      "source": [
        "# Train the model Logistic Regression \n",
        "lr = LogisticRegression(labelCol='CategoryIndexer',featuresCol='features', maxIter= 10)\n",
        "lrModel = lr.fit(trainingData)\n"
      ]
    },
    {
      "cell_type": "code",
      "execution_count": null,
      "metadata": {},
      "outputs": [],
      "source": []
    },
    {
      "cell_type": "code",
      "execution_count": null,
      "metadata": {},
      "outputs": [],
      "source": []
    },
    {
      "cell_type": "code",
      "execution_count": null,
      "metadata": {},
      "outputs": [],
      "source": []
    },
    {
      "cell_type": "code",
      "execution_count": null,
      "metadata": {},
      "outputs": [],
      "source": []
    },
    {
      "cell_type": "code",
      "execution_count": null,
      "metadata": {},
      "outputs": [],
      "source": []
    },
    {
      "cell_type": "code",
      "execution_count": null,
      "metadata": {},
      "outputs": [],
      "source": []
    },
    {
      "cell_type": "code",
      "execution_count": 54,
      "metadata": {},
      "outputs": [],
      "source": [
        "from sklearn.model_selection import train_test_split\n",
        "\n",
        "from sklearn.feature_extraction.text import TfidfVectorizer\n",
        "from sklearn.naive_bayes import MultinomialNB\n",
        "from sklearn.pipeline import make_pipeline\n",
        "import seaborn as sns"
      ]
    },
    {
      "cell_type": "code",
      "execution_count": 53,
      "metadata": {
        "id": "hA0nc93k80aA"
      },
      "outputs": [
        {
          "data": {
            "text/html": [
              "<div>\n",
              "<style scoped>\n",
              "    .dataframe tbody tr th:only-of-type {\n",
              "        vertical-align: middle;\n",
              "    }\n",
              "\n",
              "    .dataframe tbody tr th {\n",
              "        vertical-align: top;\n",
              "    }\n",
              "\n",
              "    .dataframe thead th {\n",
              "        text-align: right;\n",
              "    }\n",
              "</style>\n",
              "<table border=\"1\" class=\"dataframe\">\n",
              "  <thead>\n",
              "    <tr style=\"text-align: right;\">\n",
              "      <th></th>\n",
              "      <th>TITLE</th>\n",
              "      <th>CATEGORY</th>\n",
              "      <th>JustString</th>\n",
              "      <th>words</th>\n",
              "      <th>filtered</th>\n",
              "    </tr>\n",
              "  </thead>\n",
              "  <tbody>\n",
              "    <tr>\n",
              "      <th>0</th>\n",
              "      <td>Fed official says weak data caused by weather,...</td>\n",
              "      <td>b</td>\n",
              "      <td>Fed official says weak data caused by weather,...</td>\n",
              "      <td>[fed, official, says, weak, data, caused, by, ...</td>\n",
              "      <td>[fed, official, says, weak, data, caused, weat...</td>\n",
              "    </tr>\n",
              "    <tr>\n",
              "      <th>1</th>\n",
              "      <td>Fed's Charles Plosser sees high bar for change...</td>\n",
              "      <td>b</td>\n",
              "      <td>Fed's Charles Plosser sees high bar for change...</td>\n",
              "      <td>[fed, s, charles, plosser, sees, high, bar, fo...</td>\n",
              "      <td>[fed, charles, plosser, sees, high, bar, chang...</td>\n",
              "    </tr>\n",
              "    <tr>\n",
              "      <th>2</th>\n",
              "      <td>US open: Stocks fall after Fed official hints ...</td>\n",
              "      <td>b</td>\n",
              "      <td>US open: Stocks fall after Fed official hints ...</td>\n",
              "      <td>[us, open, stocks, fall, after, fed, official,...</td>\n",
              "      <td>[us, open, stocks, fall, fed, official, hints,...</td>\n",
              "    </tr>\n",
              "    <tr>\n",
              "      <th>3</th>\n",
              "      <td>Fed risks falling 'behind the curve', Charles ...</td>\n",
              "      <td>b</td>\n",
              "      <td>Fed risks falling 'behind the curve', Charles ...</td>\n",
              "      <td>[fed, risks, falling, behind, the, curve, char...</td>\n",
              "      <td>[fed, risks, falling, behind, curve, charles, ...</td>\n",
              "    </tr>\n",
              "    <tr>\n",
              "      <th>4</th>\n",
              "      <td>Fed's Plosser: Nasty Weather Has Curbed Job Gr...</td>\n",
              "      <td>b</td>\n",
              "      <td>Fed's Plosser: Nasty Weather Has Curbed Job Gr...</td>\n",
              "      <td>[fed, s, plosser, nasty, weather, has, curbed,...</td>\n",
              "      <td>[fed, plosser, nasty, weather, curbed, job, gr...</td>\n",
              "    </tr>\n",
              "    <tr>\n",
              "      <th>...</th>\n",
              "      <td>...</td>\n",
              "      <td>...</td>\n",
              "      <td>...</td>\n",
              "      <td>...</td>\n",
              "      <td>...</td>\n",
              "    </tr>\n",
              "    <tr>\n",
              "      <th>422416</th>\n",
              "      <td>Surgeons to remove 4-year-old's rib to rebuild...</td>\n",
              "      <td>m</td>\n",
              "      <td>Surgeons to remove -year-old's rib to rebuild ...</td>\n",
              "      <td>[surgeons, to, remove, year, old, s, rib, to, ...</td>\n",
              "      <td>[surgeons, remove, year, old, rib, rebuild, da...</td>\n",
              "    </tr>\n",
              "    <tr>\n",
              "      <th>422417</th>\n",
              "      <td>Boy to have surgery on esophagus after battery...</td>\n",
              "      <td>m</td>\n",
              "      <td>Boy to have surgery on esophagus after battery...</td>\n",
              "      <td>[boy, to, have, surgery, on, esophagus, after,...</td>\n",
              "      <td>[boy, surgery, esophagus, battery, burns, hole...</td>\n",
              "    </tr>\n",
              "    <tr>\n",
              "      <th>422418</th>\n",
              "      <td>Child who swallowed battery to have reconstruc...</td>\n",
              "      <td>m</td>\n",
              "      <td>Child who swallowed battery to have reconstruc...</td>\n",
              "      <td>[child, who, swallowed, battery, to, have, rec...</td>\n",
              "      <td>[child, swallowed, battery, reconstructive, su...</td>\n",
              "    </tr>\n",
              "    <tr>\n",
              "      <th>422419</th>\n",
              "      <td>Phoenix boy undergoes surgery to repair throat...</td>\n",
              "      <td>m</td>\n",
              "      <td>Phoenix boy undergoes surgery to repair throat...</td>\n",
              "      <td>[phoenix, boy, undergoes, surgery, to, repair,...</td>\n",
              "      <td>[phoenix, boy, undergoes, surgery, repair, thr...</td>\n",
              "    </tr>\n",
              "    <tr>\n",
              "      <th>422420</th>\n",
              "      <td>Phoenix boy undergoes surgery to repair throat...</td>\n",
              "      <td>m</td>\n",
              "      <td>Phoenix boy undergoes surgery to repair throat...</td>\n",
              "      <td>[phoenix, boy, undergoes, surgery, to, repair,...</td>\n",
              "      <td>[phoenix, boy, undergoes, surgery, repair, thr...</td>\n",
              "    </tr>\n",
              "  </tbody>\n",
              "</table>\n",
              "<p>422421 rows × 5 columns</p>\n",
              "</div>"
            ],
            "text/plain": [
              "                                                    TITLE CATEGORY  \\\n",
              "0       Fed official says weak data caused by weather,...        b   \n",
              "1       Fed's Charles Plosser sees high bar for change...        b   \n",
              "2       US open: Stocks fall after Fed official hints ...        b   \n",
              "3       Fed risks falling 'behind the curve', Charles ...        b   \n",
              "4       Fed's Plosser: Nasty Weather Has Curbed Job Gr...        b   \n",
              "...                                                   ...      ...   \n",
              "422416  Surgeons to remove 4-year-old's rib to rebuild...        m   \n",
              "422417  Boy to have surgery on esophagus after battery...        m   \n",
              "422418  Child who swallowed battery to have reconstruc...        m   \n",
              "422419  Phoenix boy undergoes surgery to repair throat...        m   \n",
              "422420  Phoenix boy undergoes surgery to repair throat...        m   \n",
              "\n",
              "                                               JustString  \\\n",
              "0       Fed official says weak data caused by weather,...   \n",
              "1       Fed's Charles Plosser sees high bar for change...   \n",
              "2       US open: Stocks fall after Fed official hints ...   \n",
              "3       Fed risks falling 'behind the curve', Charles ...   \n",
              "4       Fed's Plosser: Nasty Weather Has Curbed Job Gr...   \n",
              "...                                                   ...   \n",
              "422416  Surgeons to remove -year-old's rib to rebuild ...   \n",
              "422417  Boy to have surgery on esophagus after battery...   \n",
              "422418  Child who swallowed battery to have reconstruc...   \n",
              "422419  Phoenix boy undergoes surgery to repair throat...   \n",
              "422420  Phoenix boy undergoes surgery to repair throat...   \n",
              "\n",
              "                                                    words  \\\n",
              "0       [fed, official, says, weak, data, caused, by, ...   \n",
              "1       [fed, s, charles, plosser, sees, high, bar, fo...   \n",
              "2       [us, open, stocks, fall, after, fed, official,...   \n",
              "3       [fed, risks, falling, behind, the, curve, char...   \n",
              "4       [fed, s, plosser, nasty, weather, has, curbed,...   \n",
              "...                                                   ...   \n",
              "422416  [surgeons, to, remove, year, old, s, rib, to, ...   \n",
              "422417  [boy, to, have, surgery, on, esophagus, after,...   \n",
              "422418  [child, who, swallowed, battery, to, have, rec...   \n",
              "422419  [phoenix, boy, undergoes, surgery, to, repair,...   \n",
              "422420  [phoenix, boy, undergoes, surgery, to, repair,...   \n",
              "\n",
              "                                                 filtered  \n",
              "0       [fed, official, says, weak, data, caused, weat...  \n",
              "1       [fed, charles, plosser, sees, high, bar, chang...  \n",
              "2       [us, open, stocks, fall, fed, official, hints,...  \n",
              "3       [fed, risks, falling, behind, curve, charles, ...  \n",
              "4       [fed, plosser, nasty, weather, curbed, job, gr...  \n",
              "...                                                   ...  \n",
              "422416  [surgeons, remove, year, old, rib, rebuild, da...  \n",
              "422417  [boy, surgery, esophagus, battery, burns, hole...  \n",
              "422418  [child, swallowed, battery, reconstructive, su...  \n",
              "422419  [phoenix, boy, undergoes, surgery, repair, thr...  \n",
              "422420  [phoenix, boy, undergoes, surgery, repair, thr...  \n",
              "\n",
              "[422421 rows x 5 columns]"
            ]
          },
          "execution_count": 53,
          "metadata": {},
          "output_type": "execute_result"
        }
      ],
      "source": [
        "data_cloud"
      ]
    },
    {
      "cell_type": "code",
      "execution_count": 56,
      "metadata": {
        "id": "IvssnAgH80cP"
      },
      "outputs": [],
      "source": [
        "data_cloud_sklearn = data_cloud[['CATEGORY','filtered']]"
      ]
    },
    {
      "cell_type": "code",
      "execution_count": null,
      "metadata": {
        "id": "CYNNC6bL81ZV"
      },
      "outputs": [],
      "source": []
    },
    {
      "cell_type": "code",
      "execution_count": 58,
      "metadata": {
        "id": "n-2-tPLk81bv"
      },
      "outputs": [
        {
          "name": "stderr",
          "output_type": "stream",
          "text": [
            "C:\\Users\\iyfsi\\AppData\\Local\\Temp/ipykernel_47112/2494333826.py:8: SettingWithCopyWarning: \n",
            "A value is trying to be set on a copy of a slice from a DataFrame.\n",
            "Try using .loc[row_indexer,col_indexer] = value instead\n",
            "\n",
            "See the caveats in the documentation: https://pandas.pydata.org/pandas-docs/stable/user_guide/indexing.html#returning-a-view-versus-a-copy\n",
            "  data_cloud_sklearn['CATEGORY'] = data_cloud_sklearn['CATEGORY'].map(category_mapping)\n"
          ]
        },
        {
          "data": {
            "text/html": [
              "<div>\n",
              "<style scoped>\n",
              "    .dataframe tbody tr th:only-of-type {\n",
              "        vertical-align: middle;\n",
              "    }\n",
              "\n",
              "    .dataframe tbody tr th {\n",
              "        vertical-align: top;\n",
              "    }\n",
              "\n",
              "    .dataframe thead th {\n",
              "        text-align: right;\n",
              "    }\n",
              "</style>\n",
              "<table border=\"1\" class=\"dataframe\">\n",
              "  <thead>\n",
              "    <tr style=\"text-align: right;\">\n",
              "      <th></th>\n",
              "      <th>CATEGORY</th>\n",
              "      <th>filtered</th>\n",
              "    </tr>\n",
              "  </thead>\n",
              "  <tbody>\n",
              "    <tr>\n",
              "      <th>0</th>\n",
              "      <td>Business</td>\n",
              "      <td>[fed, official, says, weak, data, caused, weat...</td>\n",
              "    </tr>\n",
              "    <tr>\n",
              "      <th>1</th>\n",
              "      <td>Business</td>\n",
              "      <td>[fed, charles, plosser, sees, high, bar, chang...</td>\n",
              "    </tr>\n",
              "    <tr>\n",
              "      <th>2</th>\n",
              "      <td>Business</td>\n",
              "      <td>[us, open, stocks, fall, fed, official, hints,...</td>\n",
              "    </tr>\n",
              "    <tr>\n",
              "      <th>3</th>\n",
              "      <td>Business</td>\n",
              "      <td>[fed, risks, falling, behind, curve, charles, ...</td>\n",
              "    </tr>\n",
              "    <tr>\n",
              "      <th>4</th>\n",
              "      <td>Business</td>\n",
              "      <td>[fed, plosser, nasty, weather, curbed, job, gr...</td>\n",
              "    </tr>\n",
              "    <tr>\n",
              "      <th>...</th>\n",
              "      <td>...</td>\n",
              "      <td>...</td>\n",
              "    </tr>\n",
              "    <tr>\n",
              "      <th>422416</th>\n",
              "      <td>Health</td>\n",
              "      <td>[surgeons, remove, year, old, rib, rebuild, da...</td>\n",
              "    </tr>\n",
              "    <tr>\n",
              "      <th>422417</th>\n",
              "      <td>Health</td>\n",
              "      <td>[boy, surgery, esophagus, battery, burns, hole...</td>\n",
              "    </tr>\n",
              "    <tr>\n",
              "      <th>422418</th>\n",
              "      <td>Health</td>\n",
              "      <td>[child, swallowed, battery, reconstructive, su...</td>\n",
              "    </tr>\n",
              "    <tr>\n",
              "      <th>422419</th>\n",
              "      <td>Health</td>\n",
              "      <td>[phoenix, boy, undergoes, surgery, repair, thr...</td>\n",
              "    </tr>\n",
              "    <tr>\n",
              "      <th>422420</th>\n",
              "      <td>Health</td>\n",
              "      <td>[phoenix, boy, undergoes, surgery, repair, thr...</td>\n",
              "    </tr>\n",
              "  </tbody>\n",
              "</table>\n",
              "<p>422421 rows × 2 columns</p>\n",
              "</div>"
            ],
            "text/plain": [
              "        CATEGORY                                           filtered\n",
              "0       Business  [fed, official, says, weak, data, caused, weat...\n",
              "1       Business  [fed, charles, plosser, sees, high, bar, chang...\n",
              "2       Business  [us, open, stocks, fall, fed, official, hints,...\n",
              "3       Business  [fed, risks, falling, behind, curve, charles, ...\n",
              "4       Business  [fed, plosser, nasty, weather, curbed, job, gr...\n",
              "...          ...                                                ...\n",
              "422416    Health  [surgeons, remove, year, old, rib, rebuild, da...\n",
              "422417    Health  [boy, surgery, esophagus, battery, burns, hole...\n",
              "422418    Health  [child, swallowed, battery, reconstructive, su...\n",
              "422419    Health  [phoenix, boy, undergoes, surgery, repair, thr...\n",
              "422420    Health  [phoenix, boy, undergoes, surgery, repair, thr...\n",
              "\n",
              "[422421 rows x 2 columns]"
            ]
          },
          "execution_count": 58,
          "metadata": {},
          "output_type": "execute_result"
        }
      ],
      "source": [
        "category_mapping = {\n",
        "           'b': 'Business',\n",
        "           'm': 'Health',\n",
        "           'e': 'Entertainment',\n",
        "           't' : 'Science and Technology'\n",
        "           }\n",
        "\n",
        "data_cloud_sklearn['CATEGORY'] = data_cloud_sklearn['CATEGORY'].map(category_mapping)\n",
        "data_cloud_sklearn"
      ]
    },
    {
      "cell_type": "code",
      "execution_count": 59,
      "metadata": {
        "id": "3l_Hxmus81ff"
      },
      "outputs": [
        {
          "data": {
            "text/plain": [
              "array([<AxesSubplot:ylabel='CATEGORY'>], dtype=object)"
            ]
          },
          "execution_count": 59,
          "metadata": {},
          "output_type": "execute_result"
        },
        {
          "data": {
            "image/png": "[encoded data removed]",
            "text/plain": [
              "<Figure size 576x576 with 1 Axes>"
            ]
          },
          "metadata": {},
          "output_type": "display_data"
        }
      ],
      "source": [
        "#visualizing the categories \n",
        "data_cloud_sklearn[\"CATEGORY\"].value_counts().plot(kind='pie',  autopct='%1.0f%%', subplots=True, figsize=(8, 8))"
      ]
    },
    {
      "cell_type": "code",
      "execution_count": null,
      "metadata": {},
      "outputs": [],
      "source": []
    },
    {
      "cell_type": "code",
      "execution_count": null,
      "metadata": {},
      "outputs": [],
      "source": []
    },
    {
      "cell_type": "markdown",
      "metadata": {
        "id": "495TNF1u82Y0"
      },
      "source": [
        "# **5- SUMMARY OF PERFORMANCES**"
      ]
    },
    {
      "cell_type": "code",
      "execution_count": 42,
      "metadata": {
        "id": "b_Rjbj-C9ALA"
      },
      "outputs": [],
      "source": [
        "#General Formula\n",
        "evaluator = MulticlassClassificationEvaluator(labelCol='CategoryIndexer', predictionCol='prediction', metricName='accuracy')\n"
      ]
    },
    {
      "cell_type": "code",
      "execution_count": 49,
      "metadata": {
        "id": "HvC06ifd9Cu4"
      },
      "outputs": [
        {
          "name": "stdout",
          "output_type": "stream",
          "text": [
            "accuracy of NB :  0.9257952614687559\n",
            "test error of NB :  0.0742047385312441\n"
          ]
        }
      ],
      "source": [
        "# Naive Bayes Metrics\n",
        "nb_accuracy = evaluator.evaluate(nb_predictions)\n",
        "print('accuracy of NB : ', nb_accuracy)\n",
        "print('test error of NB : ', 1.0-nb_accuracy)"
      ]
    },
    {
      "cell_type": "code",
      "execution_count": null,
      "metadata": {
        "id": "MewoW-M79C0M"
      },
      "outputs": [],
      "source": [
        "# Assessment of Performance on other Dataset"
      ]
    },
    {
      "cell_type": "code",
      "execution_count": null,
      "metadata": {
        "id": "BAKZgdEd9C6J"
      },
      "outputs": [],
      "source": []
    },
    {
      "cell_type": "code",
      "execution_count": null,
      "metadata": {
        "id": "xD8FRp179C9E"
      },
      "outputs": [],
      "source": []
    },
    {
      "cell_type": "code",
      "execution_count": null,
      "metadata": {
        "id": "iAt1jFV29C-m"
      },
      "outputs": [],
      "source": []
    },
    {
      "cell_type": "markdown",
      "metadata": {
        "id": "bhpGg7kq9JQq"
      },
      "source": [
        "# **6- DEPLOYMENT USING STREAMLIT**"
      ]
    },
    {
      "cell_type": "code",
      "execution_count": null,
      "metadata": {
        "id": "hRTrWeve9PSa"
      },
      "outputs": [],
      "source": []
    },
    {
      "cell_type": "code",
      "execution_count": null,
      "metadata": {
        "id": "hGQsPiFv9QHe"
      },
      "outputs": [],
      "source": []
    },
    {
      "cell_type": "code",
      "execution_count": null,
      "metadata": {
        "id": "4fFOmKTs9QKK"
      },
      "outputs": [],
      "source": []
    },
    {
      "cell_type": "code",
      "execution_count": null,
      "metadata": {
        "id": "8xh58UJC9QM3"
      },
      "outputs": [],
      "source": []
    },
    {
      "cell_type": "code",
      "execution_count": null,
      "metadata": {
        "id": "qT3JTPqi9QOw"
      },
      "outputs": [],
      "source": []
    },
    {
      "cell_type": "code",
      "execution_count": null,
      "metadata": {
        "id": "ZQEPV-cm9RDG"
      },
      "outputs": [],
      "source": []
    },
    {
      "cell_type": "code",
      "execution_count": null,
      "metadata": {
        "id": "R_hppqJZ9RFT"
      },
      "outputs": [],
      "source": []
    }
  ],
  "metadata": {
    "colab": {
      "collapsed_sections": [],
      "name": "NewsF.ipynb",
      "provenance": []
    },
    "kernelspec": {
      "display_name": "Python 3",
      "name": "python3"
    },
    "language_info": {
      "codemirror_mode": {
        "name": "ipython",
        "version": 3
      },
      "file_extension": ".py",
      "mimetype": "text/x-python",
      "name": "python",
      "nbconvert_exporter": "python",
      "pygments_lexer": "ipython3",
      "version": "3.8.8"
    }
  },
  "nbformat": 4,
  "nbformat_minor": 0
}
